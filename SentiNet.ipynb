{
 "cells": [
  {
   "cell_type": "markdown",
   "id": "f95501d8-b766-449a-9f40-d6957a23f4c2",
   "metadata": {},
   "source": [
    "<center> <h1> SentiNet </h1>"
   ]
  },
  {
   "cell_type": "markdown",
   "id": "4b33e55e-8eeb-4127-a1cd-186dabcf3c72",
   "metadata": {},
   "source": [
    "SentiNet is a sentiment analysis system powered by deep learning, built on the Large Movie Review Dataset (https://ai.stanford.edu/~amaas/data/sentiment/). This project leverages TensorFlow's data API for efficient data loading, implements custom sentence embeddings trained from scratch, and uses an MLP for classification. The model is developed with Keras, incorporating advanced training techniques like Nesterov optimization, kernel weight decay, dropout, early stopping, and exponential learning rate scheduling. The final model is ready for deployment with a Gradio web UI and Docker support for seamless installation.\n",
    "\n",
    "The Large Movie Review Dataset contains 25,000 files for training and 25,000 for testing. I will split the test subset in half to create separate test and validation sets."
   ]
  },
  {
   "cell_type": "markdown",
   "id": "fc76adc5-d668-46d9-86f4-9a1ad43fa60e",
   "metadata": {},
   "source": [
    "## Imports & Setup"
   ]
  },
  {
   "cell_type": "code",
   "execution_count": 3,
   "id": "e5fa9184-afeb-42cf-8fdd-531dda28da9c",
   "metadata": {},
   "outputs": [
    {
     "data": {
      "text/plain": [
       "'tensorflow'"
      ]
     },
     "execution_count": 3,
     "metadata": {},
     "output_type": "execute_result"
    }
   ],
   "source": [
    "import os\n",
    "os.environ[\"KERAS_BACKEND\"] = \"tensorflow\"\n",
    "\n",
    "import tensorflow as tf\n",
    "import keras\n",
    "\n",
    "TRAIN_PATH = r\"aclImdb_v1\\aclImdb\\train\"\n",
    "TEST_VAL_PATH = r\"aclImdb_v1\\aclImdb\\test\"\n",
    "BATCH_SIZE = 32\n",
    "RANDOM_SEED = 42\n",
    "SHUFFLE_BUFFER = 8192\n",
    "EMBEDDING_DIM = 128\n",
    "VOCAB_SIZE = 25000\n",
    "\n",
    "keras.utils.set_random_seed(42)\n",
    "keras.backend.backend()"
   ]
  },
  {
   "cell_type": "code",
   "execution_count": null,
   "id": "91b87d12-df36-47f3-bb6a-8f4337b48661",
   "metadata": {},
   "outputs": [],
   "source": [
    "# DOWNLOAD DATASET\n",
    "\n",
    "DATASET_LINK = \"https://ai.stanford.edu/~amaas/data/sentiment/\"\n",
    "keras.utils.get_file(origin=DATASET_LINK, extract=True)"
   ]
  },
  {
   "cell_type": "markdown",
   "id": "f80d1473-692f-4c64-8190-852b7f6665f6",
   "metadata": {},
   "source": [
    "## TensorFlow Data Loader"
   ]
  },
  {
   "cell_type": "markdown",
   "id": "091c23cf-3c0d-4387-a3f1-65d349e72e1a",
   "metadata": {},
   "source": [
    "The TensorFlow Data API is a powerful tool for creating efficient datasets for neural network training, especially when data exceeds memory capacity. It loads data from disk in batches and applies transformations on-the-fly.\n",
    "\n",
    "This project designs a TensorFlow Data Loader with the following steps:\n",
    "\n",
    "1. Create a dataset of file paths from all text files within subdirectories of the main directory.\n",
    "2. Apply a `parse_txt` function to each file path, which:\n",
    "   - Reads the text file content.\n",
    "   - If `infer_labels` is enabled, extracts the subdirectory name from the file path, infers it as the label, and encodes it as an integer.\n",
    "   - Returns a tuple of `(text, label)` if labels are inferred, otherwise returns only the text.\n",
    "3. Generate a complete dataset of text tensors (and labels if inferred).\n",
    "4. Provide an optional dataset split for training and validation. When enabled, the dataset is divided based on the specified validation split proportion. Users must specify `subset` as either \"training\" or \"validation\" to retrieve the corresponding split.\n",
    "5. Cache the dataset in memory to accelerate operations (suitable for small datasets), then shuffle, batch, and prefetch batches to optimize training performance.\n",
    "\n",
    "**Notes:**\n",
    "- When a `tf.data.Dataset` is passed to Keras' `model.fit`, it automatically interprets tuples as `(input, label)`.\n",
    "- If the dataset is batched, Keras respects the dataset's batch size, and changing the batch size in `model.fit` has no effect."
   ]
  },
  {
   "cell_type": "code",
   "execution_count": 5,
   "id": "8ad59cec-9908-4ed8-94e7-064ecfe135c8",
   "metadata": {},
   "outputs": [],
   "source": [
    "# DATA PIPELINE\n",
    "\n",
    "def parse_txt(path, subdirs, infer_labels=True):\n",
    "    \"\"\"Parses a text file and optionally infers its label from the directory structure.\n",
    "    \n",
    "    Args:\n",
    "        path: String, path to the text file.\n",
    "        subdirs: List of subdirectory names representing classes.\n",
    "        infer_labels: Bool, whether to infer labels from directory names.\n",
    "    \n",
    "    Returns:\n",
    "        Tuple of (text, label) if infer_labels is True, else only text.\n",
    "    \"\"\"\n",
    "    text = tf.io.read_file(path)\n",
    "    if infer_labels:\n",
    "        text_label = tf.strings.split(path, sep=os.sep)[-2]\n",
    "        label_indices = tf.equal(text_label, tf.constant(subdirs))\n",
    "        label = tf.argmax(tf.cast(label_indices, tf.int32))\n",
    "        return (tf.ensure_shape(text, shape=[]), tf.ensure_shape(label, shape=[]))\n",
    "    return tf.ensure_shape(text, shape=[])\n",
    "\n",
    "\n",
    "def dataset_from_text_files(data_path, infer_labels=True, batch_size=32, validation_split=False,\n",
    "                            validation_split_size=0.2, subset=\"training\", shuffle_buffer=500, \n",
    "                            prefetch_size=2, seed=42):\n",
    "    \"\"\"Creates a TensorFlow dataset from text files with optional train/validation split.\n",
    "    \n",
    "    Args:\n",
    "        data_path: String, path to the directory containing text files.\n",
    "        infer_labels: Bool, whether to infer labels from directory structure.\n",
    "        batch_size: Int, size of batches for the dataset.\n",
    "        validation_split: Bool, whether to split dataset into train/validation.\n",
    "        validation_split_size: Float, proportion of data for validation.\n",
    "        subset: String, either 'training' or 'validation' for split.\n",
    "        shuffle_buffer: Int, buffer size for shuffling.\n",
    "        prefetch_size: Int, number of batches to prefetch.\n",
    "        seed: Int, random seed for shuffling.\n",
    "    \n",
    "    Returns:\n",
    "        A TensorFlow dataset, batched and optimized for training or validation.\n",
    "    \"\"\"\n",
    "    subdirs = next(os.walk(data_path))[1]\n",
    "    path_ds = tf.data.Dataset.list_files(data_path + \"/*/*\", shuffle=True, seed=seed)\n",
    "    print(f\"Found {path_ds.cardinality().numpy()} text files belonging to {len(subdirs)} classes.\")\n",
    "    dataset = path_ds.map(lambda p: parse_txt(p, infer_labels=infer_labels, subdirs=subdirs), \n",
    "                          num_parallel_calls=tf.data.AUTOTUNE)\n",
    "    full_dataset_size = dataset.cardinality().numpy()\n",
    "          \n",
    "    if validation_split and subset == \"training\":\n",
    "        train_proportion = tf.round((1 - validation_split_size) * full_dataset_size).numpy()\n",
    "        dataset = dataset.take(train_proportion)\n",
    "        print(f\"Splitted dataset with {dataset.cardinality().numpy()} train files.\")\n",
    "    \n",
    "    if validation_split and subset == \"validation\":\n",
    "        train_proportion = tf.round((1 - validation_split_size) * full_dataset_size).numpy()\n",
    "        dataset = dataset.skip(train_proportion)\n",
    "        print(f\"Splitted dataset with {dataset.cardinality().numpy()} validation files.\")\n",
    "\n",
    "    return dataset.cache().shuffle(shuffle_buffer, seed=seed)\\\n",
    "        .batch(batch_size, num_parallel_calls=tf.data.AUTOTUNE).prefetch(prefetch_size)"
   ]
  },
  {
   "cell_type": "code",
   "execution_count": 3,
   "id": "4f536590-2b1f-4cfb-952e-7774d44dc40a",
   "metadata": {},
   "outputs": [
    {
     "name": "stdout",
     "output_type": "stream",
     "text": [
      "Found 25000 text files belonging to 2 classes.\n",
      "Found 25000 text files belonging to 2 classes.\n",
      "Splitted dataset with 12500 train files.\n",
      "Found 25000 text files belonging to 2 classes.\n",
      "Splitted dataset with 12500 validation files.\n",
      "== REVIEW TEXT == \n",
      " b'I still don\\'t know why I forced myself to sit through the whole thing. This \"film\" wasn\\'t worth the Memorex DVD-R it was burned on; I thought I was watching the end result of a group of middle schoolers stealing their parents\\' camcorder. This is by far the worst movie ever made. I truly, from the bottom of my heart, want to sue Aaron Yamasato for the two hours he stole from my life.<br /><br />So apparently, it\\'s supposed to be bad on purpose; However, if you should end up in Hell and are forced to watch this 90-minute coil of doo-doo, you\\'ll see that Yamasato is really trying hard to make an awesome flick. The actors attempt dramatic kick-ass performances comparable to Crimson Tide but come closer to The Marine.<br /><br />The crap acting is just the tip of the iceberg. The camera angles are awful. The story is C-movie at best-- the plot isn\\'t even good enough to be considered B-movie caliber. The dialogue attempts to be dynamic and witty, but is crap like everything else. Rumor has it that a hard copy of the screenplay actually attracts flies. Plus, the techno score is annoying... not because it\\'s techno, but because it\\'s NON-STOP. That\\'s right, the music plays in the background THE WHOLE TIME, acting as a subliminal reminder of how bad this thing is. I don\\'t care what the disclaimer claims, I don\\'t buy it. BOTS was not made this bad on purpose, because it takes itself WAY too serious for what it was: a joke.<br /><br />This \"film\" was very low-budget. But that is no excuse for its record-setting suck factor. Great films are born of substance, not budget. BOTS had neither.<br /><br />Allow me to further articulate the overwhelming power of this 90-minute waste of time: if I were having a three-way with Jessica Alba and Jessica Biel in front of a TV and Blood of the Samurai came on, I\\'d be out of there quicker than Steven Seagal in Executive Decision.<br /><br />Undoubtedly, some people will try to defend the movie. Two, maybe three. They\\'ll say, \"it\\'s grindhouse chop-socky!\" or \"cheesy in a good way!\" or \"it\\'s so bad, it\\'s good!\" Those people are idiots. A movie is either good, or it\\'s bad. There\\'s no such thing as a good bad movie. But there ARE such things as idiots that like crappy movies. Don\\'t get me wrong; there are lots of cornball not-to-be-taken-seriously movies out there that are enjoyable and entertaining. Slither is one. BOTS is not.<br /><br />This suckfest runs about an hour and a half, and in my humble opinion, it\\'s 90 minutes too long. The best thing about this \"film\" is the DVD cover, so next time you\\'re near the Wal-Mart DVD bargain bin, take a look at it-- DON\\'T TOUCH IT, just look-- and quietly walk away.' \n",
      " == LABEL: 0 ==\n"
     ]
    }
   ],
   "source": [
    "train_ds = dataset_from_text_files(TRAIN_PATH, infer_labels=True, batch_size=BATCH_SIZE,\n",
    "                             shuffle_buffer=SHUFFLE_BUFFER,prefetch_size=2, seed=RANDOM_SEED)\n",
    "                                \n",
    "# SPLITTING TEST FILES TO TEST AND VAL SUBSETS\n",
    "val_ds = dataset_from_text_files(TEST_VAL_PATH, infer_labels=True, batch_size=BATCH_SIZE, validation_split=True,\n",
    "                      validation_split_size=0.5, subset=\"training\", shuffle_buffer=SHUFFLE_BUFFER,prefetch_size=2, seed=BATCH_SIZE)\n",
    "\n",
    "test_ds = dataset_from_text_files(TEST_VAL_PATH, infer_labels=True, batch_size=BATCH_SIZE, validation_split=True,\n",
    "                      validation_split_size=0.5, subset=\"validation\", shuffle_buffer=SHUFFLE_BUFFER,prefetch_size=2, seed=BATCH_SIZE)\n",
    "\n",
    "# PRINT A SAMPLE\n",
    "sample = train_ds.take(1).get_single_element()\n",
    "print(f\"== REVIEW TEXT == \\n {sample[0][0]} \\n == LABEL: {sample[1][0]} ==\") # LABEL 0 FOR NEG AND 1 FOR POS"
   ]
  },
  {
   "cell_type": "markdown",
   "id": "a3bac23a-00e8-4df7-9cbc-dcbe8165d837",
   "metadata": {},
   "source": [
    "## Modeling"
   ]
  },
  {
   "cell_type": "markdown",
   "id": "285a5f68-2f3a-4343-963b-c69a30e62163",
   "metadata": {},
   "source": [
    "**Sentiment Analysis System Overview**\n",
    "\n",
    "This project builds a sentiment analysis system using two core components: a custom TensorFlow Data API loader to process text reviews into a tf.data.Dataset, and a Keras-based pipeline for preprocessing, encoding, embedding, and classifying text reviews.\n",
    "\n",
    "---\n",
    "**Preprocessing & Encoding**\n",
    "\n",
    "- A `keras.layers.TextVectorization` layer preprocesses, tokenizes, and integer-encodes text reviews.\n",
    "- A custom preprocessing function uses tf.strings operations to ensure TensorFlow graph compatibility, removing URLs, numbers, punctuation, stopwords, and excess whitespace while converting text to lowercase.\n",
    "- A limited vocabulary (`VOCAB_SIZE`) is created by adapting the layer to the training data.\n",
    "- The output is a tuple of `(vector, label)`, where the vector is an integer-encoded representation of a review based on word presence."
   ]
  },
  {
   "cell_type": "code",
   "execution_count": 7,
   "id": "715a5173-8ed9-45ee-86cb-38ae0c45d3a4",
   "metadata": {},
   "outputs": [],
   "source": [
    "def custom_prep(text):\n",
    "    \"\"\"Preprocesses text by normalizing and cleaning it\"\"\"\n",
    "    text = tf.strings.lower(text)  # lowercase\n",
    "    text = tf.strings.regex_replace(text, pattern=r'((http|https)\\:\\/\\/)?[a-zA-Z0-9\\.\\/\\?\\:@\\-_=#]+\\.([a-zA-Z]){2,6}([a-zA-Z0-9\\.\\&\\/\\?\\:@\\-_=#])*'\n",
    "                                    , rewrite=\" URL \") # remove urls\n",
    "    text = tf.strings.regex_replace(text, pattern=r'(\\#{1,6}\\s*)|(\\*{1,2})|(__)|(\\~\\~)|`{1,3}|!\\[.*?\\]\\(.*?\\)|\\[.*?\\]\\(.*?\\)|<.*?>', rewrite=\" \") # remove markdowns\n",
    "    text = tf.strings.regex_replace(text, pattern=r'\\n', rewrite=\" \")  # remove newlines\n",
    "    text = tf.strings.regex_replace(text, pattern=r'[^\\w\\s]', rewrite=\" \")  # remove punctuation\n",
    "    text = tf.strings.regex_replace(text, pattern=r'\\d+', rewrite=\" NUMBER \")  # remove Numbers\n",
    "    text = tf.strings.regex_replace(text, pattern=\"nbsp\" , rewrite=\" \")\n",
    "    stopwords = ['the', 'a', 'an', 'of', 'on', 'in', 'at', 'for', 'to',\n",
    "     'and', 'or', 'but', 'with', 'by', 'from', 'as', 'that',\n",
    "     'this', 'these', 'those', 'which', 'who', 'whom', 'whose',\n",
    "     'there', 'here', 'when', 'where', 'why', 'how']\n",
    "    pattern = r'\\b(' + '|'.join(stopwords) + r')\\b'\n",
    "    text = tf.strings.regex_replace(text,pattern=pattern , rewrite=\" \") # remove stopwords\n",
    "    text = tf.strings.regex_replace(text, pattern=r'\\s+', rewrite=\" \")  # Whitespace collapse\n",
    "    return tf.strings.strip(text)"
   ]
  },
  {
   "cell_type": "code",
   "execution_count": 10,
   "id": "444256ec-5a69-4ce7-98e1-19ba1204d8ba",
   "metadata": {},
   "outputs": [
    {
     "name": "stdout",
     "output_type": "stream",
     "text": [
      "vocab file exist! loading from disk...\n"
     ]
    }
   ],
   "source": [
    "def get_vocab(train_data , vocab_path = \"saved_models/vocab.joblib\", max_tokens=VOCAB_SIZE, rewrite=False):\n",
    "    \"\"\"Save TextVectorizer's vocabulary into disk and load it for subsequent runs. to speed up experiments.\"\"\"\n",
    "    import joblib\n",
    "    if os.path.exists(vocab_path) and rewrite==False:\n",
    "        print(f\"vocab file exist! loading from disk...\")\n",
    "        return joblib.load(vocab_path)\n",
    "    else:\n",
    "        print(f\"vocab file not exist! adapting from training set...\")\n",
    "        encoder = keras.layers.TextVectorization(output_mode=\"int\", max_tokens=max_tokens, standardize=custom_prep)\n",
    "        encoder.adapt(train_data)\n",
    "        vocab = encoder.get_vocabulary()\n",
    "        joblib.dump(vocab, vocab_path)\n",
    "        return vocab\n",
    "\n",
    "train_ds_no_label = train_ds.map(lambda t,l: t, num_parallel_calls=tf.data.AUTOTUNE)\n",
    "vocab = get_vocab(train_ds_no_label, rewrite=False)"
   ]
  },
  {
   "cell_type": "markdown",
   "id": "ab10c434-5d8e-4130-86c2-0a0be4e254f4",
   "metadata": {},
   "source": [
    "**Sentence Embedding**\n",
    "  \n",
    "A custom `SentenceEmbedding` layer implements representation learning to create sentence-level embeddings.\n",
    "It takes an integer-encoded review vector, computes the mean of word embeddings, and normalizes by the square root of the word count to prevent bias from longer reviews.\n",
    "The embedding matrix has a rank equal to the encoder's vocabulary size, with the output dimension as a tunable hyperparameter."
   ]
  },
  {
   "cell_type": "code",
   "execution_count": 8,
   "id": "6a21f033-dcec-4c46-bb3e-e68c6b2da888",
   "metadata": {},
   "outputs": [],
   "source": [
    "class SentenceEmbedding(keras.layers.Layer):\n",
    "    \"\"\"Custom layer for sentence embeddings using word embeddings and mean pooling.\n",
    "    \n",
    "    This layer converts tokenized text into dense sentence embeddings by:\n",
    "    1. Applying an embedding layer to convert tokens into dense vectors.\n",
    "    2. Computing the mean of word embeddings across the sequence.\n",
    "    3. Scaling the mean by the square root of non-zero token counts to account for sequence length.\n",
    "    \n",
    "    Args:\n",
    "        vocab_size: Integer, size of the vocabulary for the embedding layer.\n",
    "        embedding_dim: Integer, dimensionality of the embedding vectors.\n",
    "        **kwargs: Additional arguments passed to the parent Layer class.\n",
    "    \n",
    "    Raises:\n",
    "        ValueError: If vocab_size or embedding_dim is not a positive integer.\n",
    "    \n",
    "    Returns:\n",
    "        Tensor of shape (batch_size, embedding_dim) representing sentence embeddings.\n",
    "    \n",
    "    Example:\n",
    "        ```python\n",
    "        layer = SentenceEmbedding(vocab_size=10000, embedding_dim=128)\n",
    "        inputs = tf.constant([[1, 2, 0], [3, 4, 5]])  # Tokenized input\n",
    "        outputs = layer(inputs)  # Sentence embeddings\n",
    "        ```\n",
    "    \"\"\"\n",
    "    def __init__(self, vocab_size, embedding_dim, **kwargs):\n",
    "        super().__init__(**kwargs)\n",
    "        if vocab_size <= 0 or embedding_dim <= 0:\n",
    "            raise ValueError(\"vocab_size and embedding_dim must be positive integers\")\n",
    "        self.vocab_size = vocab_size\n",
    "        self.embedding_dim = embedding_dim\n",
    "        self.embedding = keras.layers.Embedding(input_dim=vocab_size, output_dim=embedding_dim)\n",
    "    \n",
    "    def call(self, X):\n",
    "        embeddings = self.embedding(X)\n",
    "        mean = keras.ops.mean(embeddings, axis=1)  \n",
    "        reviews_word_count = keras.ops.count_nonzero(X, axis=1) \n",
    "        sqrt_root = keras.ops.sqrt(keras.ops.cast(reviews_word_count, \"float32\") + 1e-10) \n",
    "        return mean * keras.ops.expand_dims(sqrt_root, axis=-1)\n",
    "\n",
    "    def get_config(self):\n",
    "        base_config = super().get_config()\n",
    "        return {**base_config, \"vocab_size\": self.vocab_size, \"embedding_dim\": self.embedding_dim}"
   ]
  },
  {
   "cell_type": "markdown",
   "id": "81eb554a-58af-49d1-ae14-64e48c58e0b0",
   "metadata": {},
   "source": [
    "**MLP Classifier**\n",
    "\n",
    "The MLP classifier consists of a dense layer with 512 units, a 50% dropout layer, and a 32-unit dense layer.\n",
    "ReLU activation and He normal initialization are used for efficient non-linear feature capture.\n",
    "A final dense layer with sigmoid activation outputs the sentiment prediction."
   ]
  },
  {
   "cell_type": "code",
   "execution_count": 22,
   "id": "147307cb-433b-4f1c-af55-ca0e69304df3",
   "metadata": {},
   "outputs": [
    {
     "data": {
      "text/html": [
       "<pre style=\"white-space:pre;overflow-x:auto;line-height:normal;font-family:Menlo,'DejaVu Sans Mono',consolas,'Courier New',monospace\"><span style=\"font-weight: bold\">Model: \"sentimdb_model\"</span>\n",
       "</pre>\n"
      ],
      "text/plain": [
       "\u001b[1mModel: \"sentimdb_model\"\u001b[0m\n"
      ]
     },
     "metadata": {},
     "output_type": "display_data"
    },
    {
     "data": {
      "text/html": [
       "<pre style=\"white-space:pre;overflow-x:auto;line-height:normal;font-family:Menlo,'DejaVu Sans Mono',consolas,'Courier New',monospace\">┏━━━━━━━━━━━━━━━━━━━━━━━━━━━━━━━━━━━━━━┳━━━━━━━━━━━━━━━━━━━━━━━━━━━━━┳━━━━━━━━━━━━━━━━━┓\n",
       "┃<span style=\"font-weight: bold\"> Layer (type)                         </span>┃<span style=\"font-weight: bold\"> Output Shape                </span>┃<span style=\"font-weight: bold\">         Param # </span>┃\n",
       "┡━━━━━━━━━━━━━━━━━━━━━━━━━━━━━━━━━━━━━━╇━━━━━━━━━━━━━━━━━━━━━━━━━━━━━╇━━━━━━━━━━━━━━━━━┩\n",
       "│ encoder (<span style=\"color: #0087ff; text-decoration-color: #0087ff\">TextVectorization</span>)          │ (<span style=\"color: #00d7ff; text-decoration-color: #00d7ff\">None</span>, <span style=\"color: #00d7ff; text-decoration-color: #00d7ff\">None</span>)                │               <span style=\"color: #00af00; text-decoration-color: #00af00\">0</span> │\n",
       "├──────────────────────────────────────┼─────────────────────────────┼─────────────────┤\n",
       "│ sentence_embedding                   │ (<span style=\"color: #00d7ff; text-decoration-color: #00d7ff\">None</span>, <span style=\"color: #00af00; text-decoration-color: #00af00\">128</span>)                 │       <span style=\"color: #00af00; text-decoration-color: #00af00\">3,200,000</span> │\n",
       "│ (<span style=\"color: #0087ff; text-decoration-color: #0087ff\">SentenceEmbedding</span>)                  │                             │                 │\n",
       "├──────────────────────────────────────┼─────────────────────────────┼─────────────────┤\n",
       "│ Dense_1 (<span style=\"color: #0087ff; text-decoration-color: #0087ff\">Dense</span>)                      │ (<span style=\"color: #00d7ff; text-decoration-color: #00d7ff\">None</span>, <span style=\"color: #00af00; text-decoration-color: #00af00\">512</span>)                 │          <span style=\"color: #00af00; text-decoration-color: #00af00\">66,048</span> │\n",
       "├──────────────────────────────────────┼─────────────────────────────┼─────────────────┤\n",
       "│ dropout_2 (<span style=\"color: #0087ff; text-decoration-color: #0087ff\">Dropout</span>)                  │ (<span style=\"color: #00d7ff; text-decoration-color: #00d7ff\">None</span>, <span style=\"color: #00af00; text-decoration-color: #00af00\">512</span>)                 │               <span style=\"color: #00af00; text-decoration-color: #00af00\">0</span> │\n",
       "├──────────────────────────────────────┼─────────────────────────────┼─────────────────┤\n",
       "│ Dense_2 (<span style=\"color: #0087ff; text-decoration-color: #0087ff\">Dense</span>)                      │ (<span style=\"color: #00d7ff; text-decoration-color: #00d7ff\">None</span>, <span style=\"color: #00af00; text-decoration-color: #00af00\">32</span>)                  │          <span style=\"color: #00af00; text-decoration-color: #00af00\">16,416</span> │\n",
       "├──────────────────────────────────────┼─────────────────────────────┼─────────────────┤\n",
       "│ Output_Layer (<span style=\"color: #0087ff; text-decoration-color: #0087ff\">Dense</span>)                 │ (<span style=\"color: #00d7ff; text-decoration-color: #00d7ff\">None</span>, <span style=\"color: #00af00; text-decoration-color: #00af00\">1</span>)                   │              <span style=\"color: #00af00; text-decoration-color: #00af00\">33</span> │\n",
       "└──────────────────────────────────────┴─────────────────────────────┴─────────────────┘\n",
       "</pre>\n"
      ],
      "text/plain": [
       "┏━━━━━━━━━━━━━━━━━━━━━━━━━━━━━━━━━━━━━━┳━━━━━━━━━━━━━━━━━━━━━━━━━━━━━┳━━━━━━━━━━━━━━━━━┓\n",
       "┃\u001b[1m \u001b[0m\u001b[1mLayer (type)                        \u001b[0m\u001b[1m \u001b[0m┃\u001b[1m \u001b[0m\u001b[1mOutput Shape               \u001b[0m\u001b[1m \u001b[0m┃\u001b[1m \u001b[0m\u001b[1m        Param #\u001b[0m\u001b[1m \u001b[0m┃\n",
       "┡━━━━━━━━━━━━━━━━━━━━━━━━━━━━━━━━━━━━━━╇━━━━━━━━━━━━━━━━━━━━━━━━━━━━━╇━━━━━━━━━━━━━━━━━┩\n",
       "│ encoder (\u001b[38;5;33mTextVectorization\u001b[0m)          │ (\u001b[38;5;45mNone\u001b[0m, \u001b[38;5;45mNone\u001b[0m)                │               \u001b[38;5;34m0\u001b[0m │\n",
       "├──────────────────────────────────────┼─────────────────────────────┼─────────────────┤\n",
       "│ sentence_embedding                   │ (\u001b[38;5;45mNone\u001b[0m, \u001b[38;5;34m128\u001b[0m)                 │       \u001b[38;5;34m3,200,000\u001b[0m │\n",
       "│ (\u001b[38;5;33mSentenceEmbedding\u001b[0m)                  │                             │                 │\n",
       "├──────────────────────────────────────┼─────────────────────────────┼─────────────────┤\n",
       "│ Dense_1 (\u001b[38;5;33mDense\u001b[0m)                      │ (\u001b[38;5;45mNone\u001b[0m, \u001b[38;5;34m512\u001b[0m)                 │          \u001b[38;5;34m66,048\u001b[0m │\n",
       "├──────────────────────────────────────┼─────────────────────────────┼─────────────────┤\n",
       "│ dropout_2 (\u001b[38;5;33mDropout\u001b[0m)                  │ (\u001b[38;5;45mNone\u001b[0m, \u001b[38;5;34m512\u001b[0m)                 │               \u001b[38;5;34m0\u001b[0m │\n",
       "├──────────────────────────────────────┼─────────────────────────────┼─────────────────┤\n",
       "│ Dense_2 (\u001b[38;5;33mDense\u001b[0m)                      │ (\u001b[38;5;45mNone\u001b[0m, \u001b[38;5;34m32\u001b[0m)                  │          \u001b[38;5;34m16,416\u001b[0m │\n",
       "├──────────────────────────────────────┼─────────────────────────────┼─────────────────┤\n",
       "│ Output_Layer (\u001b[38;5;33mDense\u001b[0m)                 │ (\u001b[38;5;45mNone\u001b[0m, \u001b[38;5;34m1\u001b[0m)                   │              \u001b[38;5;34m33\u001b[0m │\n",
       "└──────────────────────────────────────┴─────────────────────────────┴─────────────────┘\n"
      ]
     },
     "metadata": {},
     "output_type": "display_data"
    },
    {
     "data": {
      "text/html": [
       "<pre style=\"white-space:pre;overflow-x:auto;line-height:normal;font-family:Menlo,'DejaVu Sans Mono',consolas,'Courier New',monospace\"><span style=\"font-weight: bold\"> Total params: </span><span style=\"color: #00af00; text-decoration-color: #00af00\">3,282,497</span> (12.52 MB)\n",
       "</pre>\n"
      ],
      "text/plain": [
       "\u001b[1m Total params: \u001b[0m\u001b[38;5;34m3,282,497\u001b[0m (12.52 MB)\n"
      ]
     },
     "metadata": {},
     "output_type": "display_data"
    },
    {
     "data": {
      "text/html": [
       "<pre style=\"white-space:pre;overflow-x:auto;line-height:normal;font-family:Menlo,'DejaVu Sans Mono',consolas,'Courier New',monospace\"><span style=\"font-weight: bold\"> Trainable params: </span><span style=\"color: #00af00; text-decoration-color: #00af00\">3,282,497</span> (12.52 MB)\n",
       "</pre>\n"
      ],
      "text/plain": [
       "\u001b[1m Trainable params: \u001b[0m\u001b[38;5;34m3,282,497\u001b[0m (12.52 MB)\n"
      ]
     },
     "metadata": {},
     "output_type": "display_data"
    },
    {
     "data": {
      "text/html": [
       "<pre style=\"white-space:pre;overflow-x:auto;line-height:normal;font-family:Menlo,'DejaVu Sans Mono',consolas,'Courier New',monospace\"><span style=\"font-weight: bold\"> Non-trainable params: </span><span style=\"color: #00af00; text-decoration-color: #00af00\">0</span> (0.00 B)\n",
       "</pre>\n"
      ],
      "text/plain": [
       "\u001b[1m Non-trainable params: \u001b[0m\u001b[38;5;34m0\u001b[0m (0.00 B)\n"
      ]
     },
     "metadata": {},
     "output_type": "display_data"
    }
   ],
   "source": [
    "def get_model(vocab, embedding_in , embedding_dim,  model_name=\"seq_model\"):\n",
    "    \"\"\"Builds a sentiment analysis model with text vectorization, Sentence Embedding and MLP.\"\"\"\n",
    "    model = keras.models.Sequential(name=model_name)\n",
    "    model.add(keras.layers.Input(shape=[], dtype=tf.string))\n",
    "    model.add(keras.layers.TextVectorization(output_mode=\"int\" , vocabulary=vocab, name=\"encoder\", standardize=custom_prep)),\n",
    "    model.add(SentenceEmbedding(vocab_size=embedding_in, embedding_dim= embedding_dim, name=\"sentence_embedding\")),\n",
    "    model.add(keras.layers.Dense(512, activation=\"relu\", kernel_initializer=keras.initializers.he_normal, name=\"Dense_1\")),\n",
    "    model.add(keras.layers.Dropout(0.5))\n",
    "    model.add(keras.layers.Dense(32, activation=\"relu\", kernel_initializer=keras.initializers.he_normal, name=\"Dense_2\")),\n",
    "    model.add(keras.layers.Dense(1, activation=\"sigmoid\", name=\"Output_Layer\"))       \n",
    "    return model\n",
    "    \n",
    "model = get_model(vocab, embedding_in=VOCAB_SIZE, embedding_dim=EMBEDDING_DIM, model_name=\"sentimdb_model\")\n",
    "model.compile(loss=keras.losses.BinaryCrossentropy(), optimizer=keras.optimizers.Nadam(weight_decay=0.004), metrics=[\"accuracy\"])\n",
    "\n",
    "model.summary()"
   ]
  },
  {
   "cell_type": "markdown",
   "id": "5217d2d3-573b-4501-a97a-de965d4ee185",
   "metadata": {},
   "source": [
    "**Training**\n",
    "\n",
    "The model is trained with the following techniques:\n",
    "\n",
    "- Optimizer: Nadam optimizer with Nesterov momentum for faster convergence.\n",
    "- Regularizers:\n",
    "- - Kernel weight decay (0.004) to prevent overfitting.\n",
    "  - Dropout (50%) to enhance generalization.\n",
    "  - Early stopping to halt training when validation performance plateaus.\n",
    "\n",
    "- Learning Rate Scheduler: Exponential decay to stabilize convergence near the optimal point."
   ]
  },
  {
   "cell_type": "code",
   "execution_count": 23,
   "id": "c837a4b1-3827-4a42-bdaa-65491832d09e",
   "metadata": {},
   "outputs": [
    {
     "name": "stdout",
     "output_type": "stream",
     "text": [
      "Epoch 1/100\n",
      "\u001b[1m782/782\u001b[0m \u001b[32m━━━━━━━━━━━━━━━━━━━━\u001b[0m\u001b[37m\u001b[0m \u001b[1m26s\u001b[0m 31ms/step - accuracy: 0.5322 - loss: 0.6902 - val_accuracy: 0.7570 - val_loss: 0.5766 - learning_rate: 0.0010\n",
      "Epoch 2/100\n",
      "\u001b[1m782/782\u001b[0m \u001b[32m━━━━━━━━━━━━━━━━━━━━\u001b[0m\u001b[37m\u001b[0m \u001b[1m24s\u001b[0m 31ms/step - accuracy: 0.7268 - loss: 0.5372 - val_accuracy: 0.6662 - val_loss: 0.5695 - learning_rate: 9.5012e-04\n",
      "Epoch 3/100\n",
      "\u001b[1m782/782\u001b[0m \u001b[32m━━━━━━━━━━━━━━━━━━━━\u001b[0m\u001b[37m\u001b[0m \u001b[1m24s\u001b[0m 31ms/step - accuracy: 0.8313 - loss: 0.3732 - val_accuracy: 0.6857 - val_loss: 0.6615 - learning_rate: 8.5770e-04\n",
      "Epoch 4/100\n",
      "\u001b[1m782/782\u001b[0m \u001b[32m━━━━━━━━━━━━━━━━━━━━\u001b[0m\u001b[37m\u001b[0m \u001b[1m24s\u001b[0m 31ms/step - accuracy: 0.8715 - loss: 0.3105 - val_accuracy: 0.8396 - val_loss: 0.3632 - learning_rate: 7.3564e-04\n",
      "Epoch 5/100\n",
      "\u001b[1m782/782\u001b[0m \u001b[32m━━━━━━━━━━━━━━━━━━━━\u001b[0m\u001b[37m\u001b[0m \u001b[1m24s\u001b[0m 31ms/step - accuracy: 0.9055 - loss: 0.2317 - val_accuracy: 0.8195 - val_loss: 0.4135 - learning_rate: 5.9948e-04\n",
      "Epoch 6/100\n",
      "\u001b[1m782/782\u001b[0m \u001b[32m━━━━━━━━━━━━━━━━━━━━\u001b[0m\u001b[37m\u001b[0m \u001b[1m24s\u001b[0m 31ms/step - accuracy: 0.9192 - loss: 0.2037 - val_accuracy: 0.8823 - val_loss: 0.3233 - learning_rate: 4.6416e-04\n",
      "Epoch 7/100\n",
      "\u001b[1m782/782\u001b[0m \u001b[32m━━━━━━━━━━━━━━━━━━━━\u001b[0m\u001b[37m\u001b[0m \u001b[1m25s\u001b[0m 32ms/step - accuracy: 0.9380 - loss: 0.1620 - val_accuracy: 0.8822 - val_loss: 0.3290 - learning_rate: 3.4145e-04\n",
      "Epoch 8/100\n",
      "\u001b[1m782/782\u001b[0m \u001b[32m━━━━━━━━━━━━━━━━━━━━\u001b[0m\u001b[37m\u001b[0m \u001b[1m25s\u001b[0m 32ms/step - accuracy: 0.9470 - loss: 0.1409 - val_accuracy: 0.8692 - val_loss: 0.3655 - learning_rate: 2.3866e-04\n",
      "Epoch 9/100\n",
      "\u001b[1m782/782\u001b[0m \u001b[32m━━━━━━━━━━━━━━━━━━━━\u001b[0m\u001b[37m\u001b[0m \u001b[1m24s\u001b[0m 31ms/step - accuracy: 0.9555 - loss: 0.1255 - val_accuracy: 0.8834 - val_loss: 0.3436 - learning_rate: 1.5849e-04\n",
      "Epoch 9: early stopping\n",
      "Restoring model weights from the end of the best epoch: 6.\n",
      "CPU times: total: 31min 43s\n",
      "Wall time: 3min 40s\n"
     ]
    }
   ],
   "source": [
    "%%time\n",
    "\n",
    "def exp_decay(epoch, lr):\n",
    "    return lr * 0.1 ** (epoch / 45)\n",
    "    \n",
    "hist = model.fit(train_ds, epochs=100, validation_data=val_ds,\n",
    "                 callbacks=[\n",
    "                     keras.callbacks.EarlyStopping(patience=3, restore_best_weights=True, verbose=1),\n",
    "                     keras.callbacks.LearningRateScheduler(exp_decay)\n",
    "                           ])"
   ]
  },
  {
   "cell_type": "code",
   "execution_count": 24,
   "id": "7850f472-a875-4e04-b1a3-941a8decf6b8",
   "metadata": {},
   "outputs": [
    {
     "data": {
      "image/png": "[encoded data removed]",
      "text/plain": [
       "<Figure size 1400x400 with 3 Axes>"
      ]
     },
     "metadata": {},
     "output_type": "display_data"
    }
   ],
   "source": [
    "def learning_plots(history, figsize=(14,4)):\n",
    "    import pandas as pd\n",
    "    import matplotlib.pyplot as plt\n",
    "    fig,axs=plt.subplots(1,3,figsize=figsize)\n",
    "    results = pd.DataFrame(history)\n",
    "    style = {\"grid\":True, \"marker\":\".\", \"xticks\":results.index}\n",
    "    results[[\"loss\" , \"val_loss\"]].plot(ax=axs[0],  title=\"Loss per Epoch - Learning Curve\", **style)\n",
    "    results[[\"accuracy\" , \"val_accuracy\"]].plot(ax=axs[1],  title=\"Accuracy per Epoch - Learning Curve\", **style)\n",
    "    results[[\"learning_rate\"]].plot(ax=axs[2],  title=\"Learning Rate per Epoch\", **style)\n",
    "    plt.tight_layout();\n",
    "\n",
    "learning_plots(hist.history)"
   ]
  },
  {
   "cell_type": "markdown",
   "id": "d7280d72-fd21-4852-b778-c019e34e8cd8",
   "metadata": {},
   "source": [
    "Model training stopped at epoch 6, as indicated by the learning rate above. This is also where the training-validation gap began to widen. Next, we will evaluate the model on a separate test set, make predictions based on some movie review samples I found online, and save the model in Keras format for our Gradio app."
   ]
  },
  {
   "cell_type": "code",
   "execution_count": 47,
   "id": "23a9a34b-5c0d-4c5d-bd2c-7560376dcd32",
   "metadata": {},
   "outputs": [
    {
     "name": "stdout",
     "output_type": "stream",
     "text": [
      "\u001b[1m391/391\u001b[0m \u001b[32m━━━━━━━━━━━━━━━━━━━━\u001b[0m\u001b[37m\u001b[0m \u001b[1m2s\u001b[0m 6ms/step - accuracy: 0.8759 - loss: 0.3294\n"
     ]
    },
    {
     "data": {
      "text/plain": [
       "[0.32373496890068054, 0.8811200261116028]"
      ]
     },
     "execution_count": 47,
     "metadata": {},
     "output_type": "execute_result"
    }
   ],
   "source": [
    "# TEST SET EVALUATION\n",
    "\n",
    "model.evaluate(test_ds)"
   ]
  },
  {
   "cell_type": "code",
   "execution_count": 141,
   "id": "7deb39a2-d986-4d81-b903-bd45bbd3cb2d",
   "metadata": {},
   "outputs": [
    {
     "name": "stdout",
     "output_type": "stream",
     "text": [
      "Found 5 files.\n",
      "\u001b[1m5/5\u001b[0m \u001b[32m━━━━━━━━━━━━━━━━━━━━\u001b[0m\u001b[37m\u001b[0m \u001b[1m0s\u001b[0m 2ms/step \n",
      "====================================================================================================\n",
      "REVIEW TEXT\n",
      "[b'This was an absolutely terrible movie. Don\\xe2\\x80\\x99t be lured in by the cast\\xe2\\x80\\x94both great actors, but this is easily their worst role ever. Even their performances couldn\\xe2\\x80\\x99t save the ridiculous storyline. The propaganda tone was overwhelming, and the plot made no sense at all.']\n",
      "TRUE LABEL: Negative\n",
      "PREDICTED LABEL: Negative\n",
      "====================================================================================================\n",
      "REVIEW TEXT\n",
      "[b\"Rich ditzy Joan Winfield is engaged to the egoistical Allen Brice and then gets kidnapped\\xe2\\x80\\x94it all feels forced and dull. There's no genuine humor, despite repeated physical gags. Only the star power and nice cinematography keep it afloat, otherwise it\\xe2\\x80\\x99s a slog to sit through.\"]\n",
      "TRUE LABEL: Negative\n",
      "PREDICTED LABEL: Negative\n",
      "====================================================================================================\n",
      "REVIEW TEXT\n",
      "[b\"Well, this film is a difficult one really. To be straight, it doesn\\xe2\\x80\\x99t contain a riveting story, nor does it make you 'want' to know how it\\xe2\\x80\\x99ll end... but I\\xe2\\x80\\x99ve never been as tense and jumpy in my life! This film delivers the jumps and thrills. Not a blockbuster, not high budget\\xe2\\x80\\x94but definitely effective.\"]\n",
      "TRUE LABEL: Positive\n",
      "PREDICTED LABEL: Positive\n",
      "====================================================================================================\n",
      "REVIEW TEXT\n",
      "[b\"Bromwell High is a cartoon comedy that satirizes school life with sharp wit and surprising realism\\xe2\\x80\\x94more so than comparable shows like 'Teachers'. As a teacher with 35 years of experience, I found the students' pettiness, financial struggles, and absurd situations all too familiar. I was reminded immediately of real classrooms.\"]\n",
      "TRUE LABEL: Positive\n",
      "PREDICTED LABEL: Positive\n",
      "====================================================================================================\n",
      "REVIEW TEXT\n",
      "[b'The acting was terrible and the plot made no sense at all. I really didn\\xe2\\x80\\x99t enjoy this movie. Dialogue was flat and scenes lacked energy\\xe2\\x80\\x94no redeeming qualities were found.']\n",
      "TRUE LABEL: Negative\n",
      "PREDICTED LABEL: Negative\n"
     ]
    }
   ],
   "source": [
    "# MAKE SOME PREDICTIONS\n",
    "\n",
    "samples = keras.utils.text_dataset_from_directory(\"samples\", labels=None, shuffle=False, batch_size=1)\n",
    "true_labels = [\"Negative\", \"Negative\", \"Positive\", \"Positive\", \"Negative\"]\n",
    "\n",
    "probs = model.predict(samples).round(3)\n",
    "\n",
    "for i,j in enumerate(samples):\n",
    "    print(f\"{\"=\"*100}\\nREVIEW TEXT\\n{j}\\nTRUE LABEL: {true_labels[i]}\\nPREDICTED LABEL: {\"Positive\" if probs[i] >= 0.5 else \"Negative\"}\")"
   ]
  },
  {
   "cell_type": "code",
   "execution_count": 142,
   "id": "377d18dc-4216-4480-8069-97bf62d7bc08",
   "metadata": {},
   "outputs": [],
   "source": [
    "# SAVE FINAL MODEL\n",
    "\n",
    "model.save(\"saved_models/sentiment_model.keras\")"
   ]
  },
  {
   "cell_type": "code",
   "execution_count": null,
   "id": "3adb5d20-cb3a-45fb-9dbb-f433fab03966",
   "metadata": {},
   "outputs": [],
   "source": []
  }
 ],
 "metadata": {
  "kernelspec": {
   "display_name": "Python 3 (ipykernel)",
   "language": "python",
   "name": "python3"
  },
  "language_info": {
   "codemirror_mode": {
    "name": "ipython",
    "version": 3
   },
   "file_extension": ".py",
   "mimetype": "text/x-python",
   "name": "python",
   "nbconvert_exporter": "python",
   "pygments_lexer": "ipython3",
   "version": "3.12.11"
  }
 },
 "nbformat": 4,
 "nbformat_minor": 5
}
